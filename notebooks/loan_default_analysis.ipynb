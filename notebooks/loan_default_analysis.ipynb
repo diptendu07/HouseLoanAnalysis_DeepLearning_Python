{
 "cells": [
  {
   "cell_type": "code",
   "execution_count": null,
   "id": "f4a6d2c0",
   "metadata": {},
   "outputs": [],
   "source": [
    "import pandas as pd\n",
    "import numpy as np\n",
    "import matplotlib.pyplot as plt\n",
    "import seaborn as sns\n",
    "import os\n",
    "\n",
    "from sklearn.model_selection import train_test_split\n",
    "from sklearn.preprocessing import StandardScaler\n",
    "from sklearn.metrics import confusion_matrix, roc_auc_score, roc_curve\n",
    "\n",
    "from imblearn.over_sampling import SMOTE\n",
    "\n",
    "import tensorflow as tf\n",
    "from tensorflow.keras.models import Sequential\n",
    "from tensorflow.keras.layers import Dense, Dropout\n"
   ]
  },
  {
   "cell_type": "code",
   "execution_count": null,
   "id": "51afc7b0",
   "metadata": {},
   "outputs": [],
   "source": [
    "DATA_PATH = \"../data/loan_data.csv\"\n",
    "MODEL_PATH = \"../models/loan_default_model.keras\"\n",
    "OUTPUT_DIR = \"../outputs\"\n",
    "\n",
    "os.makedirs(OUTPUT_DIR, exist_ok=True)\n"
   ]
  },
  {
   "cell_type": "code",
   "execution_count": null,
   "id": "7d0d9f63",
   "metadata": {},
   "outputs": [],
   "source": [
    "df = pd.read_csv(DATA_PATH)\n",
    "df.head()\n"
   ]
  },
  {
   "cell_type": "code",
   "execution_count": null,
   "id": "e3182cde",
   "metadata": {},
   "outputs": [],
   "source": [
    "nulls = df.isnull().sum()\n",
    "print(\"Null Values:\\n\", nulls)\n",
    "\n",
    "threshold = 0.5\n",
    "df = df.loc[:, df.isnull().mean() < threshold]\n",
    "\n",
    "numeric_cols = df.select_dtypes(include=[np.number]).columns\n",
    "df[numeric_cols] = df[numeric_cols].fillna(df[numeric_cols].median())\n",
    "\n",
    "categorical_cols = df.select_dtypes(include=['object']).columns\n",
    "for col in categorical_cols:\n",
    "    df[col] = df[col].fillna(df[col].mode()[0])\n"
   ]
  },
  {
   "cell_type": "code",
   "execution_count": null,
   "id": "cb76a59a",
   "metadata": {},
   "outputs": [],
   "source": [
    "default_pct = df['TARGET'].value_counts(normalize=True) * 100\n",
    "print(\"Default Distribution:\\n\", default_pct)\n"
   ]
  },
  {
   "cell_type": "code",
   "execution_count": null,
   "id": "bace2c73",
   "metadata": {},
   "outputs": [],
   "source": [
    "X = df.drop(columns=['TARGET'])\n",
    "y = df['TARGET']\n",
    "\n",
    "X = pd.get_dummies(X)\n",
    "\n",
    "scaler = StandardScaler()\n",
    "X_scaled = scaler.fit_transform(X)\n",
    "\n",
    "smote = SMOTE(random_state=42)\n",
    "X_bal, y_bal = smote.fit_resample(X_scaled, y)\n"
   ]
  },
  {
   "cell_type": "code",
   "execution_count": null,
   "id": "373cf395",
   "metadata": {},
   "outputs": [],
   "source": [
    "sns.countplot(x=y_bal)\n",
    "plt.title('Balanced Class Distribution')\n",
    "plt.savefig(f\"{OUTPUT_DIR}/class_distribution.png\")\n",
    "plt.show()\n"
   ]
  },
  {
   "cell_type": "code",
   "execution_count": null,
   "id": "8c5712bb",
   "metadata": {},
   "outputs": [],
   "source": [
    "X_train, X_test, y_train, y_test = train_test_split(X_bal, y_bal, test_size=0.2, random_state=42)\n"
   ]
  },
  {
   "cell_type": "code",
   "execution_count": null,
   "id": "421c5de5",
   "metadata": {},
   "outputs": [],
   "source": [
    "model = Sequential([\n",
    "    Dense(128, activation='relu', input_shape=(X_train.shape[1],)),\n",
    "    Dropout(0.3),\n",
    "    Dense(64, activation='relu'),\n",
    "    Dropout(0.2),\n",
    "    Dense(1, activation='sigmoid')\n",
    "])\n",
    "\n",
    "model.compile(optimizer='adam', loss='binary_crossentropy', metrics=['accuracy'])\n",
    "history = model.fit(X_train, y_train, epochs=20, batch_size=64, validation_split=0.2)\n"
   ]
  },
  {
   "cell_type": "code",
   "execution_count": null,
   "id": "2fbe3279",
   "metadata": {},
   "outputs": [],
   "source": [
    "model.save(MODEL_PATH)\n",
    "\n",
    "with open(f\"{OUTPUT_DIR}/model_summary.txt\", \"w\", encoding='utf-8') as f:\n",
    "    model.summary(print_fn=lambda x: f.write(x + \"\\n\"))\n"
   ]
  },
  {
   "cell_type": "code",
   "execution_count": null,
   "id": "f1ca6177",
   "metadata": {},
   "outputs": [],
   "source": [
    "y_pred_probs = model.predict(X_test)\n",
    "y_pred = (y_pred_probs > 0.5).astype(\"int32\")\n",
    "\n",
    "cm = confusion_matrix(y_test, y_pred)\n",
    "sns.heatmap(cm, annot=True, fmt='d')\n",
    "plt.title(\"Confusion Matrix\")\n",
    "plt.savefig(f\"{OUTPUT_DIR}/confusion_matrix.png\")\n",
    "plt.show()\n"
   ]
  },
  {
   "cell_type": "code",
   "execution_count": null,
   "id": "d05f7953",
   "metadata": {},
   "outputs": [],
   "source": [
    "TP = cm[1, 1]\n",
    "FN = cm[1, 0]\n",
    "sensitivity = TP / (TP + FN)\n",
    "\n",
    "auc = roc_auc_score(y_test, y_pred_probs)\n",
    "fpr, tpr, _ = roc_curve(y_test, y_pred_probs)\n"
   ]
  },
  {
   "cell_type": "code",
   "execution_count": null,
   "id": "0e1b4dab",
   "metadata": {},
   "outputs": [],
   "source": [
    "plt.plot(fpr, tpr, label=f\"AUC = {auc:.2f}\")\n",
    "plt.plot([0, 1], [0, 1], linestyle=\"--\")\n",
    "plt.xlabel(\"False Positive Rate\")\n",
    "plt.ylabel(\"True Positive Rate\")\n",
    "plt.title(\"ROC Curve\")\n",
    "plt.legend()\n",
    "plt.savefig(f\"{OUTPUT_DIR}/roc_curve.png\")\n",
    "plt.show()\n"
   ]
  },
  {
   "cell_type": "code",
   "execution_count": null,
   "id": "fae7e140",
   "metadata": {},
   "outputs": [],
   "source": [
    "with open(f\"{OUTPUT_DIR}/metrics.txt\", \"w\") as f:\n",
    "    f.write(f\"Sensitivity: {sensitivity:.4f}\\n\")\n",
    "    f.write(f\"AUC: {auc:.4f}\\n\")\n",
    "\n",
    "print(\"Model training and evaluation complete. Outputs saved.\")\n"
   ]
  }
 ],
 "metadata": {
  "kernelspec": {
   "display_name": "venv",
   "language": "python",
   "name": "python3"
  },
  "language_info": {
   "codemirror_mode": {
    "name": "ipython",
    "version": 3
   },
   "file_extension": ".py",
   "mimetype": "text/x-python",
   "name": "python",
   "nbconvert_exporter": "python",
   "pygments_lexer": "ipython3",
   "version": "3.10.0"
  }
 },
 "nbformat": 4,
 "nbformat_minor": 5
}
